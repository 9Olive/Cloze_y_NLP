{
 "cells": [
  {
   "cell_type": "code",
   "execution_count": 22,
   "metadata": {},
   "outputs": [],
   "source": [
    "import pickle\n",
    "import pandas as pd\n",
    "import numpy as np"
   ]
  },
  {
   "cell_type": "code",
   "execution_count": 2,
   "metadata": {},
   "outputs": [],
   "source": [
    "with open(\"../outputs/n_gram_models.pkl\", \"rb\") as f:\n",
    "    models = pickle.load(f)"
   ]
  },
  {
   "cell_type": "code",
   "execution_count": 3,
   "metadata": {},
   "outputs": [],
   "source": [
    "df_phrases=pd.read_csv(\"../data/training_data_sentences.csv\")"
   ]
  },
  {
   "cell_type": "code",
   "execution_count": 25,
   "metadata": {},
   "outputs": [
    {
     "name": "stdout",
     "output_type": "stream",
     "text": [
      "                                           sentences\n",
      "0    La picadura de ciertas arañas puede ser mortal.\n",
      "1                 Cuando hay hambre no hay pan duro.\n",
      "2              La película terminó de forma extraña.\n",
      "3                     El gato atrapó muchos ratones.\n",
      "4                  Sobre gustos no hay nada escrito.\n",
      "..                                               ...\n",
      "115         No hagas promesas que no puedas cumplir.\n",
      "116             El que a hierro mata a hierro muere.\n",
      "117        Los loros comieron la plantación de maíz.\n",
      "118            No te des por vencido ni aún vencido.\n",
      "119        Lucifer es uno de los nombres del diablo.\n",
      "\n",
      "[120 rows x 1 columns]\n"
     ]
    }
   ],
   "source": [
    "print(df_phrases)"
   ]
  },
  {
   "cell_type": "code",
   "execution_count": 60,
   "metadata": {},
   "outputs": [],
   "source": [
    "def perplexity(W, model=2):\n",
    "    try:\n",
    "        keys=list(models[model].keys())\n",
    "    except:\n",
    "        with open(\"../outputs/n_gram_models.pkl\", \"rb\") as f:\n",
    "            models = pickle.load(f)\n",
    "        keys=list(models[model].keys())\n",
    "    \n",
    "    probs=[]\n",
    "\n",
    "    for i,w in enumerate(W):\n",
    "        if i == 0:\n",
    "            continue\n",
    "        else:\n",
    "            matching_ngrams=[]\n",
    "            for key in keys:\n",
    "                if key[0].lower()==W[i-1].lower() and key[1].lower()==w.lower():\n",
    "                    prob=models[2][key]\n",
    "                    break\n",
    "                else:\n",
    "                    prob=0.000000001\n",
    "            probs.append(prob)\n",
    "    # return(probs)\n",
    "    return np.prod(probs)**(-1/len(W))        "
   ]
  },
  {
   "cell_type": "code",
   "execution_count": 65,
   "metadata": {},
   "outputs": [],
   "source": [
    "perps=[]\n",
    "for i,row in df_phrases.iterrows():\n",
    "    P=row.sentences.replace(\".\", \"\").lower().split(\" \")\n",
    "    perps.append(perplexity(P))"
   ]
  },
  {
   "cell_type": "code",
   "execution_count": 66,
   "metadata": {},
   "outputs": [],
   "source": [
    "df_phrases[\"perplexity\"]=perps"
   ]
  },
  {
   "cell_type": "code",
   "execution_count": 68,
   "metadata": {},
   "outputs": [
    {
     "data": {
      "text/plain": [
       "4043471.85147204"
      ]
     },
     "execution_count": 68,
     "metadata": {},
     "output_type": "execute_result"
    }
   ],
   "source": [
    "df_phrases.perplexity.mean()"
   ]
  }
 ],
 "metadata": {
  "kernelspec": {
   "display_name": "tensorflow-general-env",
   "language": "python",
   "name": "python3"
  },
  "language_info": {
   "codemirror_mode": {
    "name": "ipython",
    "version": 3
   },
   "file_extension": ".py",
   "mimetype": "text/x-python",
   "name": "python",
   "nbconvert_exporter": "python",
   "pygments_lexer": "ipython3",
   "version": "3.9.19"
  }
 },
 "nbformat": 4,
 "nbformat_minor": 2
}
